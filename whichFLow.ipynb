{
 "cells": [
  {
   "cell_type": "code",
   "execution_count": 9,
   "metadata": {},
   "outputs": [
    {
     "name": "stdout",
     "output_type": "stream",
     "text": [
      "28237\n",
      "45326\n",
      "54696\n",
      "100997\n"
     ]
    }
   ],
   "source": [
    "\n",
    "\n",
    "flow_template = \"Flow {num} \"\n",
    "\n",
    "\n",
    "def remove():\n",
    "    with open(\"result_dctcp_W5_1.txt\", 'r') as file:\n",
    "        \n",
    "        data = file.readlines()\n",
    "        with open(\"result.txt\", 'w') as f:\n",
    "            f.writelines(data[101020:])\n",
    "            f.close()\n",
    "\n",
    "def whichFlow():\n",
    "    counter = 0\n",
    "    with open(\"result.txt\", 'r') as file:\n",
    "        data = file.read() \n",
    "        for i in range (0, 101000):\n",
    "            flow = flow_template.format(num=i)\n",
    "            if not flow in data:\n",
    "                print(i)\n",
    "            else:\n",
    "                counter += 1\n",
    "        print(counter)\n",
    "\n",
    "whichFlow() "
   ]
  },
  {
   "cell_type": "code",
   "execution_count": 7,
   "metadata": {},
   "outputs": [
    {
     "name": "stdout",
     "output_type": "stream",
     "text": [
      "[10.878      13.01       13.72433333 14.098      14.34733333 14.509     ]\n",
      "1.15428893888\n"
     ]
    }
   ],
   "source": [
    "import numpy as np\n",
    "# path = \"../DATA/Zeropod/Zeropod/multipods_W5/new_schedule4/W5_incast_0.001/ppt_32_bppn_640/DATA_zeropod_W5_1/.txt\"\n",
    "\n",
    "# data = np.loadtxt(path)\n",
    "# print(np.average(data[0:3000, :], axis=0))\n",
    "\n",
    "path = \"../DATA/Zeropod/Zeropod/multipods_W5/optical-oobcp/2x_recdelay_10_up_40/DATA_zeropod_W5_1/schedule_size.txt\"\n",
    "data = np.loadtxt(path)\n",
    "print(np.average(data[0:3000, :], axis=0))\n",
    "\n",
    "path = \"../DATA/Zeropod/Zeropod/multipods_W5/optical-oobcp/2x_recdelay_10_up_40/DATA_zeropod_W5_1/FCT.txt\"\n",
    "fct = np.loadtxt(path)\n",
    "print(max(fct[:, 6]))"
   ]
  }
 ],
 "metadata": {
  "kernelspec": {
   "display_name": "Python 3",
   "language": "python",
   "name": "python3"
  },
  "language_info": {
   "codemirror_mode": {
    "name": "ipython",
    "version": 3
   },
   "file_extension": ".py",
   "mimetype": "text/x-python",
   "name": "python",
   "nbconvert_exporter": "python",
   "pygments_lexer": "ipython3",
   "version": "3.8.10"
  },
  "orig_nbformat": 4
 },
 "nbformat": 4,
 "nbformat_minor": 2
}
